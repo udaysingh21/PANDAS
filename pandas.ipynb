{
 "cells": [
  {
   "cell_type": "code",
   "execution_count": 74,
   "metadata": {},
   "outputs": [],
   "source": [
    "import pandas as pd"
   ]
  },
  {
   "cell_type": "code",
   "execution_count": 75,
   "metadata": {},
   "outputs": [
    {
     "data": {
      "text/plain": [
       "'2.0.1'"
      ]
     },
     "execution_count": 75,
     "metadata": {},
     "output_type": "execute_result"
    }
   ],
   "source": [
    "pd.__version__"
   ]
  },
  {
   "cell_type": "code",
   "execution_count": 76,
   "metadata": {},
   "outputs": [],
   "source": [
    "my_details={\n",
    "    'name':['Uday Vikram Singh','Anubhav Yadav','Prakhar Nigam','Anand Kumar','Ravi Mishra'],\n",
    "    'age':[20,21,21,23,21],\n",
    "    'Degree':['B.Tech(CSE)','B.Tech(Chemical)','B.Tech(Cyber Security)','B.Arch','Nursing'],\n",
    "    'College':['SRMCEM','IET','Chandigarh University','SDCA',None],\n",
    "    'Location':['Lucknow','Lucknow','Chandigarh','Ghaziabad','Lucknow'],\n",
    "}"
   ]
  },
  {
   "cell_type": "code",
   "execution_count": 77,
   "metadata": {},
   "outputs": [
    {
     "name": "stdout",
     "output_type": "stream",
     "text": [
      "{'name': ['Uday Vikram Singh', 'Anubhav Yadav', 'Prakhar Nigam', 'Anand Kumar', 'Ravi Mishra'], 'age': [20, 21, 21, 23, 21], 'Degree': ['B.Tech(CSE)', 'B.Tech(Chemical)', 'B.Tech(Cyber Security)', 'B.Arch', 'Nursing'], 'College': ['SRMCEM', 'IET', 'Chandigarh University', 'SDCA', None], 'Location': ['Lucknow', 'Lucknow', 'Chandigarh', 'Ghaziabad', 'Lucknow']}\n"
     ]
    }
   ],
   "source": [
    "print(my_details)"
   ]
  },
  {
   "cell_type": "code",
   "execution_count": 78,
   "metadata": {},
   "outputs": [
    {
     "name": "stdout",
     "output_type": "stream",
     "text": [
      "                name  age                  Degree                College   \n",
      "A  Uday Vikram Singh   20             B.Tech(CSE)                 SRMCEM  \\\n",
      "B      Anubhav Yadav   21        B.Tech(Chemical)                    IET   \n",
      "C      Prakhar Nigam   21  B.Tech(Cyber Security)  Chandigarh University   \n",
      "D        Anand Kumar   23                  B.Arch                   SDCA   \n",
      "E        Ravi Mishra   21                 Nursing                   None   \n",
      "\n",
      "     Location  \n",
      "A     Lucknow  \n",
      "B     Lucknow  \n",
      "C  Chandigarh  \n",
      "D   Ghaziabad  \n",
      "E     Lucknow  \n"
     ]
    }
   ],
   "source": [
    "my_df=pd.DataFrame(my_details,index=('A','B','C','D','E'))\n",
    "print(my_df)"
   ]
  },
  {
   "cell_type": "markdown",
   "metadata": {},
   "source": [
    "# Data Access"
   ]
  },
  {
   "cell_type": "code",
   "execution_count": 79,
   "metadata": {},
   "outputs": [
    {
     "data": {
      "text/html": [
       "<div>\n",
       "<style scoped>\n",
       "    .dataframe tbody tr th:only-of-type {\n",
       "        vertical-align: middle;\n",
       "    }\n",
       "\n",
       "    .dataframe tbody tr th {\n",
       "        vertical-align: top;\n",
       "    }\n",
       "\n",
       "    .dataframe thead th {\n",
       "        text-align: right;\n",
       "    }\n",
       "</style>\n",
       "<table border=\"1\" class=\"dataframe\">\n",
       "  <thead>\n",
       "    <tr style=\"text-align: right;\">\n",
       "      <th></th>\n",
       "      <th>name</th>\n",
       "      <th>age</th>\n",
       "      <th>Degree</th>\n",
       "      <th>College</th>\n",
       "      <th>Location</th>\n",
       "    </tr>\n",
       "  </thead>\n",
       "  <tbody>\n",
       "    <tr>\n",
       "      <th>A</th>\n",
       "      <td>Uday Vikram Singh</td>\n",
       "      <td>20</td>\n",
       "      <td>B.Tech(CSE)</td>\n",
       "      <td>SRMCEM</td>\n",
       "      <td>Lucknow</td>\n",
       "    </tr>\n",
       "    <tr>\n",
       "      <th>B</th>\n",
       "      <td>Anubhav Yadav</td>\n",
       "      <td>21</td>\n",
       "      <td>B.Tech(Chemical)</td>\n",
       "      <td>IET</td>\n",
       "      <td>Lucknow</td>\n",
       "    </tr>\n",
       "    <tr>\n",
       "      <th>C</th>\n",
       "      <td>Prakhar Nigam</td>\n",
       "      <td>21</td>\n",
       "      <td>B.Tech(Cyber Security)</td>\n",
       "      <td>Chandigarh University</td>\n",
       "      <td>Chandigarh</td>\n",
       "    </tr>\n",
       "    <tr>\n",
       "      <th>D</th>\n",
       "      <td>Anand Kumar</td>\n",
       "      <td>23</td>\n",
       "      <td>B.Arch</td>\n",
       "      <td>SDCA</td>\n",
       "      <td>Ghaziabad</td>\n",
       "    </tr>\n",
       "    <tr>\n",
       "      <th>E</th>\n",
       "      <td>Ravi Mishra</td>\n",
       "      <td>21</td>\n",
       "      <td>Nursing</td>\n",
       "      <td>None</td>\n",
       "      <td>Lucknow</td>\n",
       "    </tr>\n",
       "  </tbody>\n",
       "</table>\n",
       "</div>"
      ],
      "text/plain": [
       "                name  age                  Degree                College   \n",
       "A  Uday Vikram Singh   20             B.Tech(CSE)                 SRMCEM  \\\n",
       "B      Anubhav Yadav   21        B.Tech(Chemical)                    IET   \n",
       "C      Prakhar Nigam   21  B.Tech(Cyber Security)  Chandigarh University   \n",
       "D        Anand Kumar   23                  B.Arch                   SDCA   \n",
       "E        Ravi Mishra   21                 Nursing                   None   \n",
       "\n",
       "     Location  \n",
       "A     Lucknow  \n",
       "B     Lucknow  \n",
       "C  Chandigarh  \n",
       "D   Ghaziabad  \n",
       "E     Lucknow  "
      ]
     },
     "execution_count": 79,
     "metadata": {},
     "output_type": "execute_result"
    }
   ],
   "source": [
    "my_df.head() # first five rows"
   ]
  },
  {
   "cell_type": "code",
   "execution_count": 80,
   "metadata": {},
   "outputs": [
    {
     "data": {
      "text/html": [
       "<div>\n",
       "<style scoped>\n",
       "    .dataframe tbody tr th:only-of-type {\n",
       "        vertical-align: middle;\n",
       "    }\n",
       "\n",
       "    .dataframe tbody tr th {\n",
       "        vertical-align: top;\n",
       "    }\n",
       "\n",
       "    .dataframe thead th {\n",
       "        text-align: right;\n",
       "    }\n",
       "</style>\n",
       "<table border=\"1\" class=\"dataframe\">\n",
       "  <thead>\n",
       "    <tr style=\"text-align: right;\">\n",
       "      <th></th>\n",
       "      <th>name</th>\n",
       "      <th>age</th>\n",
       "      <th>Degree</th>\n",
       "      <th>College</th>\n",
       "      <th>Location</th>\n",
       "    </tr>\n",
       "  </thead>\n",
       "  <tbody>\n",
       "    <tr>\n",
       "      <th>A</th>\n",
       "      <td>Uday Vikram Singh</td>\n",
       "      <td>20</td>\n",
       "      <td>B.Tech(CSE)</td>\n",
       "      <td>SRMCEM</td>\n",
       "      <td>Lucknow</td>\n",
       "    </tr>\n",
       "    <tr>\n",
       "      <th>B</th>\n",
       "      <td>Anubhav Yadav</td>\n",
       "      <td>21</td>\n",
       "      <td>B.Tech(Chemical)</td>\n",
       "      <td>IET</td>\n",
       "      <td>Lucknow</td>\n",
       "    </tr>\n",
       "    <tr>\n",
       "      <th>C</th>\n",
       "      <td>Prakhar Nigam</td>\n",
       "      <td>21</td>\n",
       "      <td>B.Tech(Cyber Security)</td>\n",
       "      <td>Chandigarh University</td>\n",
       "      <td>Chandigarh</td>\n",
       "    </tr>\n",
       "    <tr>\n",
       "      <th>D</th>\n",
       "      <td>Anand Kumar</td>\n",
       "      <td>23</td>\n",
       "      <td>B.Arch</td>\n",
       "      <td>SDCA</td>\n",
       "      <td>Ghaziabad</td>\n",
       "    </tr>\n",
       "    <tr>\n",
       "      <th>E</th>\n",
       "      <td>Ravi Mishra</td>\n",
       "      <td>21</td>\n",
       "      <td>Nursing</td>\n",
       "      <td>None</td>\n",
       "      <td>Lucknow</td>\n",
       "    </tr>\n",
       "  </tbody>\n",
       "</table>\n",
       "</div>"
      ],
      "text/plain": [
       "                name  age                  Degree                College   \n",
       "A  Uday Vikram Singh   20             B.Tech(CSE)                 SRMCEM  \\\n",
       "B      Anubhav Yadav   21        B.Tech(Chemical)                    IET   \n",
       "C      Prakhar Nigam   21  B.Tech(Cyber Security)  Chandigarh University   \n",
       "D        Anand Kumar   23                  B.Arch                   SDCA   \n",
       "E        Ravi Mishra   21                 Nursing                   None   \n",
       "\n",
       "     Location  \n",
       "A     Lucknow  \n",
       "B     Lucknow  \n",
       "C  Chandigarh  \n",
       "D   Ghaziabad  \n",
       "E     Lucknow  "
      ]
     },
     "execution_count": 80,
     "metadata": {},
     "output_type": "execute_result"
    }
   ],
   "source": [
    "my_df.tail() # last five columns"
   ]
  },
  {
   "cell_type": "code",
   "execution_count": 81,
   "metadata": {},
   "outputs": [
    {
     "data": {
      "text/plain": [
       "Index(['A', 'B', 'C', 'D', 'E'], dtype='object')"
      ]
     },
     "execution_count": 81,
     "metadata": {},
     "output_type": "execute_result"
    }
   ],
   "source": [
    "my_df.index # it is a series of labels that identify each row, used for label-based access and alignments"
   ]
  },
  {
   "cell_type": "code",
   "execution_count": 82,
   "metadata": {},
   "outputs": [
    {
     "data": {
      "text/html": [
       "<div>\n",
       "<style scoped>\n",
       "    .dataframe tbody tr th:only-of-type {\n",
       "        vertical-align: middle;\n",
       "    }\n",
       "\n",
       "    .dataframe tbody tr th {\n",
       "        vertical-align: top;\n",
       "    }\n",
       "\n",
       "    .dataframe thead th {\n",
       "        text-align: right;\n",
       "    }\n",
       "</style>\n",
       "<table border=\"1\" class=\"dataframe\">\n",
       "  <thead>\n",
       "    <tr style=\"text-align: right;\">\n",
       "      <th></th>\n",
       "      <th>name</th>\n",
       "      <th>age</th>\n",
       "      <th>Degree</th>\n",
       "      <th>College</th>\n",
       "      <th>Location</th>\n",
       "    </tr>\n",
       "  </thead>\n",
       "  <tbody>\n",
       "    <tr>\n",
       "      <th>A</th>\n",
       "      <td>Uday Vikram Singh</td>\n",
       "      <td>20</td>\n",
       "      <td>B.Tech(CSE)</td>\n",
       "      <td>SRMCEM</td>\n",
       "      <td>Lucknow</td>\n",
       "    </tr>\n",
       "    <tr>\n",
       "      <th>B</th>\n",
       "      <td>Anubhav Yadav</td>\n",
       "      <td>21</td>\n",
       "      <td>B.Tech(Chemical)</td>\n",
       "      <td>IET</td>\n",
       "      <td>Lucknow</td>\n",
       "    </tr>\n",
       "    <tr>\n",
       "      <th>C</th>\n",
       "      <td>Prakhar Nigam</td>\n",
       "      <td>21</td>\n",
       "      <td>B.Tech(Cyber Security)</td>\n",
       "      <td>Chandigarh University</td>\n",
       "      <td>Chandigarh</td>\n",
       "    </tr>\n",
       "    <tr>\n",
       "      <th>D</th>\n",
       "      <td>Anand Kumar</td>\n",
       "      <td>23</td>\n",
       "      <td>B.Arch</td>\n",
       "      <td>SDCA</td>\n",
       "      <td>Ghaziabad</td>\n",
       "    </tr>\n",
       "    <tr>\n",
       "      <th>E</th>\n",
       "      <td>Ravi Mishra</td>\n",
       "      <td>21</td>\n",
       "      <td>Nursing</td>\n",
       "      <td>None</td>\n",
       "      <td>Lucknow</td>\n",
       "    </tr>\n",
       "  </tbody>\n",
       "</table>\n",
       "</div>"
      ],
      "text/plain": [
       "                name  age                  Degree                College   \n",
       "A  Uday Vikram Singh   20             B.Tech(CSE)                 SRMCEM  \\\n",
       "B      Anubhav Yadav   21        B.Tech(Chemical)                    IET   \n",
       "C      Prakhar Nigam   21  B.Tech(Cyber Security)  Chandigarh University   \n",
       "D        Anand Kumar   23                  B.Arch                   SDCA   \n",
       "E        Ravi Mishra   21                 Nursing                   None   \n",
       "\n",
       "     Location  \n",
       "A     Lucknow  \n",
       "B     Lucknow  \n",
       "C  Chandigarh  \n",
       "D   Ghaziabad  \n",
       "E     Lucknow  "
      ]
     },
     "execution_count": 82,
     "metadata": {},
     "output_type": "execute_result"
    }
   ],
   "source": [
    "my_df"
   ]
  },
  {
   "cell_type": "code",
   "execution_count": 83,
   "metadata": {},
   "outputs": [],
   "source": [
    "my_df.index=['a','b','c','d','e']"
   ]
  },
  {
   "cell_type": "code",
   "execution_count": 84,
   "metadata": {},
   "outputs": [
    {
     "data": {
      "text/html": [
       "<div>\n",
       "<style scoped>\n",
       "    .dataframe tbody tr th:only-of-type {\n",
       "        vertical-align: middle;\n",
       "    }\n",
       "\n",
       "    .dataframe tbody tr th {\n",
       "        vertical-align: top;\n",
       "    }\n",
       "\n",
       "    .dataframe thead th {\n",
       "        text-align: right;\n",
       "    }\n",
       "</style>\n",
       "<table border=\"1\" class=\"dataframe\">\n",
       "  <thead>\n",
       "    <tr style=\"text-align: right;\">\n",
       "      <th></th>\n",
       "      <th>name</th>\n",
       "      <th>age</th>\n",
       "      <th>Degree</th>\n",
       "      <th>College</th>\n",
       "      <th>Location</th>\n",
       "    </tr>\n",
       "  </thead>\n",
       "  <tbody>\n",
       "    <tr>\n",
       "      <th>a</th>\n",
       "      <td>Uday Vikram Singh</td>\n",
       "      <td>20</td>\n",
       "      <td>B.Tech(CSE)</td>\n",
       "      <td>SRMCEM</td>\n",
       "      <td>Lucknow</td>\n",
       "    </tr>\n",
       "    <tr>\n",
       "      <th>b</th>\n",
       "      <td>Anubhav Yadav</td>\n",
       "      <td>21</td>\n",
       "      <td>B.Tech(Chemical)</td>\n",
       "      <td>IET</td>\n",
       "      <td>Lucknow</td>\n",
       "    </tr>\n",
       "    <tr>\n",
       "      <th>c</th>\n",
       "      <td>Prakhar Nigam</td>\n",
       "      <td>21</td>\n",
       "      <td>B.Tech(Cyber Security)</td>\n",
       "      <td>Chandigarh University</td>\n",
       "      <td>Chandigarh</td>\n",
       "    </tr>\n",
       "    <tr>\n",
       "      <th>d</th>\n",
       "      <td>Anand Kumar</td>\n",
       "      <td>23</td>\n",
       "      <td>B.Arch</td>\n",
       "      <td>SDCA</td>\n",
       "      <td>Ghaziabad</td>\n",
       "    </tr>\n",
       "    <tr>\n",
       "      <th>e</th>\n",
       "      <td>Ravi Mishra</td>\n",
       "      <td>21</td>\n",
       "      <td>Nursing</td>\n",
       "      <td>None</td>\n",
       "      <td>Lucknow</td>\n",
       "    </tr>\n",
       "  </tbody>\n",
       "</table>\n",
       "</div>"
      ],
      "text/plain": [
       "                name  age                  Degree                College   \n",
       "a  Uday Vikram Singh   20             B.Tech(CSE)                 SRMCEM  \\\n",
       "b      Anubhav Yadav   21        B.Tech(Chemical)                    IET   \n",
       "c      Prakhar Nigam   21  B.Tech(Cyber Security)  Chandigarh University   \n",
       "d        Anand Kumar   23                  B.Arch                   SDCA   \n",
       "e        Ravi Mishra   21                 Nursing                   None   \n",
       "\n",
       "     Location  \n",
       "a     Lucknow  \n",
       "b     Lucknow  \n",
       "c  Chandigarh  \n",
       "d   Ghaziabad  \n",
       "e     Lucknow  "
      ]
     },
     "execution_count": 84,
     "metadata": {},
     "output_type": "execute_result"
    }
   ],
   "source": [
    "my_df"
   ]
  },
  {
   "cell_type": "code",
   "execution_count": 85,
   "metadata": {},
   "outputs": [
    {
     "data": {
      "text/plain": [
       "name        Ravi Mishra\n",
       "age                  21\n",
       "Degree          Nursing\n",
       "College            None\n",
       "Location        Lucknow\n",
       "Name: e, dtype: object"
      ]
     },
     "execution_count": 85,
     "metadata": {},
     "output_type": "execute_result"
    }
   ],
   "source": [
    "# accessing information using index\n",
    "my_df.loc['e']"
   ]
  },
  {
   "cell_type": "markdown",
   "metadata": {},
   "source": [
    "# Data Cleaning"
   ]
  },
  {
   "cell_type": "code",
   "execution_count": 86,
   "metadata": {},
   "outputs": [
    {
     "data": {
      "text/html": [
       "<div>\n",
       "<style scoped>\n",
       "    .dataframe tbody tr th:only-of-type {\n",
       "        vertical-align: middle;\n",
       "    }\n",
       "\n",
       "    .dataframe tbody tr th {\n",
       "        vertical-align: top;\n",
       "    }\n",
       "\n",
       "    .dataframe thead th {\n",
       "        text-align: right;\n",
       "    }\n",
       "</style>\n",
       "<table border=\"1\" class=\"dataframe\">\n",
       "  <thead>\n",
       "    <tr style=\"text-align: right;\">\n",
       "      <th></th>\n",
       "      <th>name</th>\n",
       "      <th>age</th>\n",
       "      <th>Degree</th>\n",
       "      <th>College</th>\n",
       "      <th>Location</th>\n",
       "    </tr>\n",
       "  </thead>\n",
       "  <tbody>\n",
       "    <tr>\n",
       "      <th>a</th>\n",
       "      <td>False</td>\n",
       "      <td>False</td>\n",
       "      <td>False</td>\n",
       "      <td>False</td>\n",
       "      <td>False</td>\n",
       "    </tr>\n",
       "    <tr>\n",
       "      <th>b</th>\n",
       "      <td>False</td>\n",
       "      <td>False</td>\n",
       "      <td>False</td>\n",
       "      <td>False</td>\n",
       "      <td>False</td>\n",
       "    </tr>\n",
       "    <tr>\n",
       "      <th>c</th>\n",
       "      <td>False</td>\n",
       "      <td>False</td>\n",
       "      <td>False</td>\n",
       "      <td>False</td>\n",
       "      <td>False</td>\n",
       "    </tr>\n",
       "    <tr>\n",
       "      <th>d</th>\n",
       "      <td>False</td>\n",
       "      <td>False</td>\n",
       "      <td>False</td>\n",
       "      <td>False</td>\n",
       "      <td>False</td>\n",
       "    </tr>\n",
       "    <tr>\n",
       "      <th>e</th>\n",
       "      <td>False</td>\n",
       "      <td>False</td>\n",
       "      <td>False</td>\n",
       "      <td>True</td>\n",
       "      <td>False</td>\n",
       "    </tr>\n",
       "  </tbody>\n",
       "</table>\n",
       "</div>"
      ],
      "text/plain": [
       "    name    age  Degree  College  Location\n",
       "a  False  False   False    False     False\n",
       "b  False  False   False    False     False\n",
       "c  False  False   False    False     False\n",
       "d  False  False   False    False     False\n",
       "e  False  False   False     True     False"
      ]
     },
     "execution_count": 86,
     "metadata": {},
     "output_type": "execute_result"
    }
   ],
   "source": [
    "my_df.isnull() # used for checking missing values, checks whether value is null or not, True on e's college"
   ]
  },
  {
   "cell_type": "code",
   "execution_count": 87,
   "metadata": {},
   "outputs": [
    {
     "data": {
      "text/html": [
       "<div>\n",
       "<style scoped>\n",
       "    .dataframe tbody tr th:only-of-type {\n",
       "        vertical-align: middle;\n",
       "    }\n",
       "\n",
       "    .dataframe tbody tr th {\n",
       "        vertical-align: top;\n",
       "    }\n",
       "\n",
       "    .dataframe thead th {\n",
       "        text-align: right;\n",
       "    }\n",
       "</style>\n",
       "<table border=\"1\" class=\"dataframe\">\n",
       "  <thead>\n",
       "    <tr style=\"text-align: right;\">\n",
       "      <th></th>\n",
       "      <th>name</th>\n",
       "      <th>age</th>\n",
       "      <th>Degree</th>\n",
       "      <th>College</th>\n",
       "      <th>Location</th>\n",
       "    </tr>\n",
       "  </thead>\n",
       "  <tbody>\n",
       "    <tr>\n",
       "      <th>a</th>\n",
       "      <td>True</td>\n",
       "      <td>True</td>\n",
       "      <td>True</td>\n",
       "      <td>True</td>\n",
       "      <td>True</td>\n",
       "    </tr>\n",
       "    <tr>\n",
       "      <th>b</th>\n",
       "      <td>True</td>\n",
       "      <td>True</td>\n",
       "      <td>True</td>\n",
       "      <td>True</td>\n",
       "      <td>True</td>\n",
       "    </tr>\n",
       "    <tr>\n",
       "      <th>c</th>\n",
       "      <td>True</td>\n",
       "      <td>True</td>\n",
       "      <td>True</td>\n",
       "      <td>True</td>\n",
       "      <td>True</td>\n",
       "    </tr>\n",
       "    <tr>\n",
       "      <th>d</th>\n",
       "      <td>True</td>\n",
       "      <td>True</td>\n",
       "      <td>True</td>\n",
       "      <td>True</td>\n",
       "      <td>True</td>\n",
       "    </tr>\n",
       "    <tr>\n",
       "      <th>e</th>\n",
       "      <td>True</td>\n",
       "      <td>True</td>\n",
       "      <td>True</td>\n",
       "      <td>False</td>\n",
       "      <td>True</td>\n",
       "    </tr>\n",
       "  </tbody>\n",
       "</table>\n",
       "</div>"
      ],
      "text/plain": [
       "   name   age  Degree  College  Location\n",
       "a  True  True    True     True      True\n",
       "b  True  True    True     True      True\n",
       "c  True  True    True     True      True\n",
       "d  True  True    True     True      True\n",
       "e  True  True    True    False      True"
      ]
     },
     "execution_count": 87,
     "metadata": {},
     "output_type": "execute_result"
    }
   ],
   "source": [
    "my_df.notnull() # used for checking missing values, check whether value is not null or not, False on e's college"
   ]
  },
  {
   "cell_type": "code",
   "execution_count": 88,
   "metadata": {},
   "outputs": [
    {
     "data": {
      "text/html": [
       "<div>\n",
       "<style scoped>\n",
       "    .dataframe tbody tr th:only-of-type {\n",
       "        vertical-align: middle;\n",
       "    }\n",
       "\n",
       "    .dataframe tbody tr th {\n",
       "        vertical-align: top;\n",
       "    }\n",
       "\n",
       "    .dataframe thead th {\n",
       "        text-align: right;\n",
       "    }\n",
       "</style>\n",
       "<table border=\"1\" class=\"dataframe\">\n",
       "  <thead>\n",
       "    <tr style=\"text-align: right;\">\n",
       "      <th></th>\n",
       "      <th>name</th>\n",
       "      <th>age</th>\n",
       "      <th>Degree</th>\n",
       "      <th>College</th>\n",
       "      <th>Location</th>\n",
       "    </tr>\n",
       "  </thead>\n",
       "  <tbody>\n",
       "    <tr>\n",
       "      <th>a</th>\n",
       "      <td>True</td>\n",
       "      <td>True</td>\n",
       "      <td>True</td>\n",
       "      <td>True</td>\n",
       "      <td>True</td>\n",
       "    </tr>\n",
       "    <tr>\n",
       "      <th>b</th>\n",
       "      <td>True</td>\n",
       "      <td>True</td>\n",
       "      <td>True</td>\n",
       "      <td>True</td>\n",
       "      <td>True</td>\n",
       "    </tr>\n",
       "    <tr>\n",
       "      <th>c</th>\n",
       "      <td>True</td>\n",
       "      <td>True</td>\n",
       "      <td>True</td>\n",
       "      <td>True</td>\n",
       "      <td>True</td>\n",
       "    </tr>\n",
       "    <tr>\n",
       "      <th>d</th>\n",
       "      <td>True</td>\n",
       "      <td>True</td>\n",
       "      <td>True</td>\n",
       "      <td>True</td>\n",
       "      <td>True</td>\n",
       "    </tr>\n",
       "    <tr>\n",
       "      <th>e</th>\n",
       "      <td>True</td>\n",
       "      <td>True</td>\n",
       "      <td>True</td>\n",
       "      <td>False</td>\n",
       "      <td>True</td>\n",
       "    </tr>\n",
       "  </tbody>\n",
       "</table>\n",
       "</div>"
      ],
      "text/plain": [
       "   name   age  Degree  College  Location\n",
       "a  True  True    True     True      True\n",
       "b  True  True    True     True      True\n",
       "c  True  True    True     True      True\n",
       "d  True  True    True     True      True\n",
       "e  True  True    True    False      True"
      ]
     },
     "execution_count": 88,
     "metadata": {},
     "output_type": "execute_result"
    }
   ],
   "source": [
    "my_df.notna() # used for checking missing values"
   ]
  },
  {
   "cell_type": "code",
   "execution_count": 89,
   "metadata": {},
   "outputs": [
    {
     "data": {
      "text/html": [
       "<div>\n",
       "<style scoped>\n",
       "    .dataframe tbody tr th:only-of-type {\n",
       "        vertical-align: middle;\n",
       "    }\n",
       "\n",
       "    .dataframe tbody tr th {\n",
       "        vertical-align: top;\n",
       "    }\n",
       "\n",
       "    .dataframe thead th {\n",
       "        text-align: right;\n",
       "    }\n",
       "</style>\n",
       "<table border=\"1\" class=\"dataframe\">\n",
       "  <thead>\n",
       "    <tr style=\"text-align: right;\">\n",
       "      <th></th>\n",
       "      <th>name</th>\n",
       "      <th>age</th>\n",
       "      <th>Degree</th>\n",
       "      <th>College</th>\n",
       "      <th>Location</th>\n",
       "    </tr>\n",
       "  </thead>\n",
       "  <tbody>\n",
       "    <tr>\n",
       "      <th>a</th>\n",
       "      <td>Uday Vikram Singh</td>\n",
       "      <td>20</td>\n",
       "      <td>B.Tech(CSE)</td>\n",
       "      <td>SRMCEM</td>\n",
       "      <td>Lucknow</td>\n",
       "    </tr>\n",
       "    <tr>\n",
       "      <th>b</th>\n",
       "      <td>Anubhav Yadav</td>\n",
       "      <td>21</td>\n",
       "      <td>B.Tech(Chemical)</td>\n",
       "      <td>IET</td>\n",
       "      <td>Lucknow</td>\n",
       "    </tr>\n",
       "    <tr>\n",
       "      <th>c</th>\n",
       "      <td>Prakhar Nigam</td>\n",
       "      <td>21</td>\n",
       "      <td>B.Tech(Cyber Security)</td>\n",
       "      <td>Chandigarh University</td>\n",
       "      <td>Chandigarh</td>\n",
       "    </tr>\n",
       "    <tr>\n",
       "      <th>d</th>\n",
       "      <td>Anand Kumar</td>\n",
       "      <td>23</td>\n",
       "      <td>B.Arch</td>\n",
       "      <td>SDCA</td>\n",
       "      <td>Ghaziabad</td>\n",
       "    </tr>\n",
       "  </tbody>\n",
       "</table>\n",
       "</div>"
      ],
      "text/plain": [
       "                name  age                  Degree                College   \n",
       "a  Uday Vikram Singh   20             B.Tech(CSE)                 SRMCEM  \\\n",
       "b      Anubhav Yadav   21        B.Tech(Chemical)                    IET   \n",
       "c      Prakhar Nigam   21  B.Tech(Cyber Security)  Chandigarh University   \n",
       "d        Anand Kumar   23                  B.Arch                   SDCA   \n",
       "\n",
       "     Location  \n",
       "a     Lucknow  \n",
       "b     Lucknow  \n",
       "c  Chandigarh  \n",
       "d   Ghaziabad  "
      ]
     },
     "execution_count": 89,
     "metadata": {},
     "output_type": "execute_result"
    }
   ],
   "source": [
    "my_df.dropna() # Removes row with missing values, by default axis=0 --> rows"
   ]
  },
  {
   "cell_type": "code",
   "execution_count": 90,
   "metadata": {},
   "outputs": [
    {
     "data": {
      "text/html": [
       "<div>\n",
       "<style scoped>\n",
       "    .dataframe tbody tr th:only-of-type {\n",
       "        vertical-align: middle;\n",
       "    }\n",
       "\n",
       "    .dataframe tbody tr th {\n",
       "        vertical-align: top;\n",
       "    }\n",
       "\n",
       "    .dataframe thead th {\n",
       "        text-align: right;\n",
       "    }\n",
       "</style>\n",
       "<table border=\"1\" class=\"dataframe\">\n",
       "  <thead>\n",
       "    <tr style=\"text-align: right;\">\n",
       "      <th></th>\n",
       "      <th>name</th>\n",
       "      <th>age</th>\n",
       "      <th>Degree</th>\n",
       "      <th>Location</th>\n",
       "    </tr>\n",
       "  </thead>\n",
       "  <tbody>\n",
       "    <tr>\n",
       "      <th>a</th>\n",
       "      <td>Uday Vikram Singh</td>\n",
       "      <td>20</td>\n",
       "      <td>B.Tech(CSE)</td>\n",
       "      <td>Lucknow</td>\n",
       "    </tr>\n",
       "    <tr>\n",
       "      <th>b</th>\n",
       "      <td>Anubhav Yadav</td>\n",
       "      <td>21</td>\n",
       "      <td>B.Tech(Chemical)</td>\n",
       "      <td>Lucknow</td>\n",
       "    </tr>\n",
       "    <tr>\n",
       "      <th>c</th>\n",
       "      <td>Prakhar Nigam</td>\n",
       "      <td>21</td>\n",
       "      <td>B.Tech(Cyber Security)</td>\n",
       "      <td>Chandigarh</td>\n",
       "    </tr>\n",
       "    <tr>\n",
       "      <th>d</th>\n",
       "      <td>Anand Kumar</td>\n",
       "      <td>23</td>\n",
       "      <td>B.Arch</td>\n",
       "      <td>Ghaziabad</td>\n",
       "    </tr>\n",
       "    <tr>\n",
       "      <th>e</th>\n",
       "      <td>Ravi Mishra</td>\n",
       "      <td>21</td>\n",
       "      <td>Nursing</td>\n",
       "      <td>Lucknow</td>\n",
       "    </tr>\n",
       "  </tbody>\n",
       "</table>\n",
       "</div>"
      ],
      "text/plain": [
       "                name  age                  Degree    Location\n",
       "a  Uday Vikram Singh   20             B.Tech(CSE)     Lucknow\n",
       "b      Anubhav Yadav   21        B.Tech(Chemical)     Lucknow\n",
       "c      Prakhar Nigam   21  B.Tech(Cyber Security)  Chandigarh\n",
       "d        Anand Kumar   23                  B.Arch   Ghaziabad\n",
       "e        Ravi Mishra   21                 Nursing     Lucknow"
      ]
     },
     "execution_count": 90,
     "metadata": {},
     "output_type": "execute_result"
    }
   ],
   "source": [
    "my_df.dropna(axis=1) # On using axis=1 Removes column with missing values\n",
    "# my_df.dropna(axis=1,inplace=True) # On using inplace=True changes are reflected in Original Dataframe too"
   ]
  },
  {
   "cell_type": "code",
   "execution_count": 91,
   "metadata": {},
   "outputs": [
    {
     "data": {
      "text/html": [
       "<div>\n",
       "<style scoped>\n",
       "    .dataframe tbody tr th:only-of-type {\n",
       "        vertical-align: middle;\n",
       "    }\n",
       "\n",
       "    .dataframe tbody tr th {\n",
       "        vertical-align: top;\n",
       "    }\n",
       "\n",
       "    .dataframe thead th {\n",
       "        text-align: right;\n",
       "    }\n",
       "</style>\n",
       "<table border=\"1\" class=\"dataframe\">\n",
       "  <thead>\n",
       "    <tr style=\"text-align: right;\">\n",
       "      <th></th>\n",
       "      <th>name</th>\n",
       "      <th>age</th>\n",
       "      <th>Degree</th>\n",
       "      <th>College</th>\n",
       "      <th>Location</th>\n",
       "    </tr>\n",
       "  </thead>\n",
       "  <tbody>\n",
       "    <tr>\n",
       "      <th>a</th>\n",
       "      <td>Uday Vikram Singh</td>\n",
       "      <td>20</td>\n",
       "      <td>B.Tech(CSE)</td>\n",
       "      <td>SRMCEM</td>\n",
       "      <td>Lucknow</td>\n",
       "    </tr>\n",
       "    <tr>\n",
       "      <th>b</th>\n",
       "      <td>Anubhav Yadav</td>\n",
       "      <td>21</td>\n",
       "      <td>B.Tech(Chemical)</td>\n",
       "      <td>IET</td>\n",
       "      <td>Lucknow</td>\n",
       "    </tr>\n",
       "    <tr>\n",
       "      <th>c</th>\n",
       "      <td>Prakhar Nigam</td>\n",
       "      <td>21</td>\n",
       "      <td>B.Tech(Cyber Security)</td>\n",
       "      <td>Chandigarh University</td>\n",
       "      <td>Chandigarh</td>\n",
       "    </tr>\n",
       "    <tr>\n",
       "      <th>d</th>\n",
       "      <td>Anand Kumar</td>\n",
       "      <td>23</td>\n",
       "      <td>B.Arch</td>\n",
       "      <td>SDCA</td>\n",
       "      <td>Ghaziabad</td>\n",
       "    </tr>\n",
       "    <tr>\n",
       "      <th>e</th>\n",
       "      <td>Ravi Mishra</td>\n",
       "      <td>21</td>\n",
       "      <td>Nursing</td>\n",
       "      <td>None</td>\n",
       "      <td>Lucknow</td>\n",
       "    </tr>\n",
       "  </tbody>\n",
       "</table>\n",
       "</div>"
      ],
      "text/plain": [
       "                name  age                  Degree                College   \n",
       "a  Uday Vikram Singh   20             B.Tech(CSE)                 SRMCEM  \\\n",
       "b      Anubhav Yadav   21        B.Tech(Chemical)                    IET   \n",
       "c      Prakhar Nigam   21  B.Tech(Cyber Security)  Chandigarh University   \n",
       "d        Anand Kumar   23                  B.Arch                   SDCA   \n",
       "e        Ravi Mishra   21                 Nursing                   None   \n",
       "\n",
       "     Location  \n",
       "a     Lucknow  \n",
       "b     Lucknow  \n",
       "c  Chandigarh  \n",
       "d   Ghaziabad  \n",
       "e     Lucknow  "
      ]
     },
     "execution_count": 91,
     "metadata": {},
     "output_type": "execute_result"
    }
   ],
   "source": [
    "my_df"
   ]
  },
  {
   "cell_type": "code",
   "execution_count": 92,
   "metadata": {},
   "outputs": [],
   "source": [
    "my_df.fillna('Integral University',inplace=True) # replace missing values with specified values\n"
   ]
  },
  {
   "cell_type": "code",
   "execution_count": 93,
   "metadata": {},
   "outputs": [
    {
     "data": {
      "text/html": [
       "<div>\n",
       "<style scoped>\n",
       "    .dataframe tbody tr th:only-of-type {\n",
       "        vertical-align: middle;\n",
       "    }\n",
       "\n",
       "    .dataframe tbody tr th {\n",
       "        vertical-align: top;\n",
       "    }\n",
       "\n",
       "    .dataframe thead th {\n",
       "        text-align: right;\n",
       "    }\n",
       "</style>\n",
       "<table border=\"1\" class=\"dataframe\">\n",
       "  <thead>\n",
       "    <tr style=\"text-align: right;\">\n",
       "      <th></th>\n",
       "      <th>name</th>\n",
       "      <th>age</th>\n",
       "      <th>Degree</th>\n",
       "      <th>College</th>\n",
       "      <th>Location</th>\n",
       "    </tr>\n",
       "  </thead>\n",
       "  <tbody>\n",
       "    <tr>\n",
       "      <th>a</th>\n",
       "      <td>Uday Vikram Singh</td>\n",
       "      <td>20</td>\n",
       "      <td>B.Tech(CSE)</td>\n",
       "      <td>SRMCEM</td>\n",
       "      <td>Lucknow</td>\n",
       "    </tr>\n",
       "    <tr>\n",
       "      <th>b</th>\n",
       "      <td>Anubhav Yadav</td>\n",
       "      <td>21</td>\n",
       "      <td>B.Tech(Chemical)</td>\n",
       "      <td>IET</td>\n",
       "      <td>Lucknow</td>\n",
       "    </tr>\n",
       "    <tr>\n",
       "      <th>c</th>\n",
       "      <td>Prakhar Nigam</td>\n",
       "      <td>21</td>\n",
       "      <td>B.Tech(Cyber Security)</td>\n",
       "      <td>Chandigarh University</td>\n",
       "      <td>Chandigarh</td>\n",
       "    </tr>\n",
       "    <tr>\n",
       "      <th>d</th>\n",
       "      <td>Anand Kumar</td>\n",
       "      <td>23</td>\n",
       "      <td>B.Arch</td>\n",
       "      <td>SDCA</td>\n",
       "      <td>Ghaziabad</td>\n",
       "    </tr>\n",
       "    <tr>\n",
       "      <th>e</th>\n",
       "      <td>Ravi Mishra</td>\n",
       "      <td>21</td>\n",
       "      <td>Nursing</td>\n",
       "      <td>Integral University</td>\n",
       "      <td>Lucknow</td>\n",
       "    </tr>\n",
       "  </tbody>\n",
       "</table>\n",
       "</div>"
      ],
      "text/plain": [
       "                name  age                  Degree                College   \n",
       "a  Uday Vikram Singh   20             B.Tech(CSE)                 SRMCEM  \\\n",
       "b      Anubhav Yadav   21        B.Tech(Chemical)                    IET   \n",
       "c      Prakhar Nigam   21  B.Tech(Cyber Security)  Chandigarh University   \n",
       "d        Anand Kumar   23                  B.Arch                   SDCA   \n",
       "e        Ravi Mishra   21                 Nursing    Integral University   \n",
       "\n",
       "     Location  \n",
       "a     Lucknow  \n",
       "b     Lucknow  \n",
       "c  Chandigarh  \n",
       "d   Ghaziabad  \n",
       "e     Lucknow  "
      ]
     },
     "execution_count": 93,
     "metadata": {},
     "output_type": "execute_result"
    }
   ],
   "source": [
    "my_df"
   ]
  },
  {
   "cell_type": "code",
   "execution_count": 94,
   "metadata": {},
   "outputs": [
    {
     "data": {
      "text/plain": [
       "a    False\n",
       "b    False\n",
       "c    False\n",
       "d    False\n",
       "e    False\n",
       "dtype: bool"
      ]
     },
     "execution_count": 94,
     "metadata": {},
     "output_type": "execute_result"
    }
   ],
   "source": [
    "my_df.duplicated() # return a boolean series indicating whether each row in dataframe is duplicated or not ."
   ]
  },
  {
   "cell_type": "code",
   "execution_count": 95,
   "metadata": {},
   "outputs": [
    {
     "data": {
      "text/html": [
       "<div>\n",
       "<style scoped>\n",
       "    .dataframe tbody tr th:only-of-type {\n",
       "        vertical-align: middle;\n",
       "    }\n",
       "\n",
       "    .dataframe tbody tr th {\n",
       "        vertical-align: top;\n",
       "    }\n",
       "\n",
       "    .dataframe thead th {\n",
       "        text-align: right;\n",
       "    }\n",
       "</style>\n",
       "<table border=\"1\" class=\"dataframe\">\n",
       "  <thead>\n",
       "    <tr style=\"text-align: right;\">\n",
       "      <th></th>\n",
       "      <th>name</th>\n",
       "      <th>age</th>\n",
       "      <th>Degree</th>\n",
       "      <th>College</th>\n",
       "      <th>Location</th>\n",
       "    </tr>\n",
       "  </thead>\n",
       "  <tbody>\n",
       "    <tr>\n",
       "      <th>a</th>\n",
       "      <td>Uday Vikram Singh</td>\n",
       "      <td>20</td>\n",
       "      <td>B.Tech(CSE)</td>\n",
       "      <td>SRMCEM</td>\n",
       "      <td>Lucknow</td>\n",
       "    </tr>\n",
       "    <tr>\n",
       "      <th>b</th>\n",
       "      <td>Anubhav Yadav</td>\n",
       "      <td>21</td>\n",
       "      <td>B.Tech(Chemical)</td>\n",
       "      <td>IET</td>\n",
       "      <td>Lucknow</td>\n",
       "    </tr>\n",
       "    <tr>\n",
       "      <th>c</th>\n",
       "      <td>Prakhar Nigam</td>\n",
       "      <td>21</td>\n",
       "      <td>B.Tech(Cyber Security)</td>\n",
       "      <td>Chandigarh University</td>\n",
       "      <td>Chandigarh</td>\n",
       "    </tr>\n",
       "    <tr>\n",
       "      <th>d</th>\n",
       "      <td>Anand Kumar</td>\n",
       "      <td>23</td>\n",
       "      <td>B.Arch</td>\n",
       "      <td>SDCA</td>\n",
       "      <td>Ghaziabad</td>\n",
       "    </tr>\n",
       "    <tr>\n",
       "      <th>e</th>\n",
       "      <td>Ravi Mishra</td>\n",
       "      <td>21</td>\n",
       "      <td>Nursing</td>\n",
       "      <td>Integral University</td>\n",
       "      <td>Lucknow</td>\n",
       "    </tr>\n",
       "  </tbody>\n",
       "</table>\n",
       "</div>"
      ],
      "text/plain": [
       "                name  age                  Degree                College   \n",
       "a  Uday Vikram Singh   20             B.Tech(CSE)                 SRMCEM  \\\n",
       "b      Anubhav Yadav   21        B.Tech(Chemical)                    IET   \n",
       "c      Prakhar Nigam   21  B.Tech(Cyber Security)  Chandigarh University   \n",
       "d        Anand Kumar   23                  B.Arch                   SDCA   \n",
       "e        Ravi Mishra   21                 Nursing    Integral University   \n",
       "\n",
       "     Location  \n",
       "a     Lucknow  \n",
       "b     Lucknow  \n",
       "c  Chandigarh  \n",
       "d   Ghaziabad  \n",
       "e     Lucknow  "
      ]
     },
     "execution_count": 95,
     "metadata": {},
     "output_type": "execute_result"
    }
   ],
   "source": [
    "my_df"
   ]
  },
  {
   "cell_type": "code",
   "execution_count": 97,
   "metadata": {},
   "outputs": [
    {
     "data": {
      "text/html": [
       "<div>\n",
       "<style scoped>\n",
       "    .dataframe tbody tr th:only-of-type {\n",
       "        vertical-align: middle;\n",
       "    }\n",
       "\n",
       "    .dataframe tbody tr th {\n",
       "        vertical-align: top;\n",
       "    }\n",
       "\n",
       "    .dataframe thead th {\n",
       "        text-align: right;\n",
       "    }\n",
       "</style>\n",
       "<table border=\"1\" class=\"dataframe\">\n",
       "  <thead>\n",
       "    <tr style=\"text-align: right;\">\n",
       "      <th></th>\n",
       "      <th>name</th>\n",
       "      <th>age</th>\n",
       "      <th>Degree</th>\n",
       "      <th>College</th>\n",
       "      <th>Location</th>\n",
       "    </tr>\n",
       "  </thead>\n",
       "  <tbody>\n",
       "    <tr>\n",
       "      <th>a</th>\n",
       "      <td>Uday Vikram Singh</td>\n",
       "      <td>20</td>\n",
       "      <td>B.Tech(CSE)</td>\n",
       "      <td>SRMCEM</td>\n",
       "      <td>Lucknow</td>\n",
       "    </tr>\n",
       "    <tr>\n",
       "      <th>b</th>\n",
       "      <td>Anubhav Yadav</td>\n",
       "      <td>21</td>\n",
       "      <td>B.Tech(Chemical)</td>\n",
       "      <td>IET</td>\n",
       "      <td>Lucknow</td>\n",
       "    </tr>\n",
       "    <tr>\n",
       "      <th>c</th>\n",
       "      <td>Prakhar Nigam</td>\n",
       "      <td>21</td>\n",
       "      <td>B.Tech(Cyber Security)</td>\n",
       "      <td>Chandigarh University</td>\n",
       "      <td>Chandigarh</td>\n",
       "    </tr>\n",
       "    <tr>\n",
       "      <th>d</th>\n",
       "      <td>Anand Kumar</td>\n",
       "      <td>23</td>\n",
       "      <td>B.Arch</td>\n",
       "      <td>SDCA</td>\n",
       "      <td>Ghaziabad</td>\n",
       "    </tr>\n",
       "    <tr>\n",
       "      <th>e</th>\n",
       "      <td>Ravi Mishra</td>\n",
       "      <td>21</td>\n",
       "      <td>Nursing</td>\n",
       "      <td>Integral University</td>\n",
       "      <td>Lucknow</td>\n",
       "    </tr>\n",
       "  </tbody>\n",
       "</table>\n",
       "</div>"
      ],
      "text/plain": [
       "                name  age                  Degree                College   \n",
       "a  Uday Vikram Singh   20             B.Tech(CSE)                 SRMCEM  \\\n",
       "b      Anubhav Yadav   21        B.Tech(Chemical)                    IET   \n",
       "c      Prakhar Nigam   21  B.Tech(Cyber Security)  Chandigarh University   \n",
       "d        Anand Kumar   23                  B.Arch                   SDCA   \n",
       "e        Ravi Mishra   21                 Nursing    Integral University   \n",
       "\n",
       "     Location  \n",
       "a     Lucknow  \n",
       "b     Lucknow  \n",
       "c  Chandigarh  \n",
       "d   Ghaziabad  \n",
       "e     Lucknow  "
      ]
     },
     "execution_count": 97,
     "metadata": {},
     "output_type": "execute_result"
    }
   ],
   "source": [
    "my_df.drop_duplicates() # removes duplicate rows from the dataframe"
   ]
  },
  {
   "cell_type": "markdown",
   "metadata": {},
   "source": [
    "# Data Selection and Indexing"
   ]
  },
  {
   "cell_type": "code",
   "execution_count": 105,
   "metadata": {},
   "outputs": [
    {
     "name": "stdout",
     "output_type": "stream",
     "text": [
      "name        Uday Vikram Singh\n",
      "age                        20\n",
      "Degree            B.Tech(CSE)\n",
      "College                SRMCEM\n",
      "Location              Lucknow\n",
      "Name: a, dtype: object\n",
      "name                 Prakhar Nigam\n",
      "age                             21\n",
      "Degree      B.Tech(Cyber Security)\n",
      "College      Chandigarh University\n",
      "Location                Chandigarh\n",
      "Name: c, dtype: object\n"
     ]
    }
   ],
   "source": [
    "# Selection by Label\n",
    "print(my_df.loc['a'])\n",
    "print(my_df.loc['c'])"
   ]
  },
  {
   "cell_type": "code",
   "execution_count": 106,
   "metadata": {},
   "outputs": [
    {
     "name": "stdout",
     "output_type": "stream",
     "text": [
      "name        Uday Vikram Singh\n",
      "age                        20\n",
      "Degree            B.Tech(CSE)\n",
      "College                SRMCEM\n",
      "Location              Lucknow\n",
      "Name: a, dtype: object\n",
      "name           Anubhav Yadav\n",
      "age                       21\n",
      "Degree      B.Tech(Chemical)\n",
      "College                  IET\n",
      "Location             Lucknow\n",
      "Name: b, dtype: object\n",
      "name                Ravi Mishra\n",
      "age                          21\n",
      "Degree                  Nursing\n",
      "College     Integral University\n",
      "Location                Lucknow\n",
      "Name: e, dtype: object\n"
     ]
    }
   ],
   "source": [
    "# Selection By position\n",
    "print(my_df.iloc[0])\n",
    "print(my_df.iloc[1])\n",
    "print(my_df.iloc[4])"
   ]
  },
  {
   "cell_type": "code",
   "execution_count": 111,
   "metadata": {},
   "outputs": [
    {
     "name": "stdout",
     "output_type": "stream",
     "text": [
      "a    False\n",
      "b     True\n",
      "c     True\n",
      "d     True\n",
      "e     True\n",
      "Name: age, dtype: bool\n"
     ]
    },
    {
     "data": {
      "text/html": [
       "<div>\n",
       "<style scoped>\n",
       "    .dataframe tbody tr th:only-of-type {\n",
       "        vertical-align: middle;\n",
       "    }\n",
       "\n",
       "    .dataframe tbody tr th {\n",
       "        vertical-align: top;\n",
       "    }\n",
       "\n",
       "    .dataframe thead th {\n",
       "        text-align: right;\n",
       "    }\n",
       "</style>\n",
       "<table border=\"1\" class=\"dataframe\">\n",
       "  <thead>\n",
       "    <tr style=\"text-align: right;\">\n",
       "      <th></th>\n",
       "      <th>name</th>\n",
       "      <th>age</th>\n",
       "      <th>Degree</th>\n",
       "      <th>College</th>\n",
       "      <th>Location</th>\n",
       "    </tr>\n",
       "  </thead>\n",
       "  <tbody>\n",
       "    <tr>\n",
       "      <th>b</th>\n",
       "      <td>Anubhav Yadav</td>\n",
       "      <td>21</td>\n",
       "      <td>B.Tech(Chemical)</td>\n",
       "      <td>IET</td>\n",
       "      <td>Lucknow</td>\n",
       "    </tr>\n",
       "    <tr>\n",
       "      <th>c</th>\n",
       "      <td>Prakhar Nigam</td>\n",
       "      <td>21</td>\n",
       "      <td>B.Tech(Cyber Security)</td>\n",
       "      <td>Chandigarh University</td>\n",
       "      <td>Chandigarh</td>\n",
       "    </tr>\n",
       "    <tr>\n",
       "      <th>d</th>\n",
       "      <td>Anand Kumar</td>\n",
       "      <td>23</td>\n",
       "      <td>B.Arch</td>\n",
       "      <td>SDCA</td>\n",
       "      <td>Ghaziabad</td>\n",
       "    </tr>\n",
       "    <tr>\n",
       "      <th>e</th>\n",
       "      <td>Ravi Mishra</td>\n",
       "      <td>21</td>\n",
       "      <td>Nursing</td>\n",
       "      <td>Integral University</td>\n",
       "      <td>Lucknow</td>\n",
       "    </tr>\n",
       "  </tbody>\n",
       "</table>\n",
       "</div>"
      ],
      "text/plain": [
       "            name  age                  Degree                College   \n",
       "b  Anubhav Yadav   21        B.Tech(Chemical)                    IET  \\\n",
       "c  Prakhar Nigam   21  B.Tech(Cyber Security)  Chandigarh University   \n",
       "d    Anand Kumar   23                  B.Arch                   SDCA   \n",
       "e    Ravi Mishra   21                 Nursing    Integral University   \n",
       "\n",
       "     Location  \n",
       "b     Lucknow  \n",
       "c  Chandigarh  \n",
       "d   Ghaziabad  \n",
       "e     Lucknow  "
      ]
     },
     "execution_count": 111,
     "metadata": {},
     "output_type": "execute_result"
    }
   ],
   "source": [
    "# Boolean Indexing - It is a technique used in Pandas to select the subset of data based on certain conditions. It allows \n",
    "# you to filter rows or columns from dataframe using Boolean arrays.\n",
    "condition=my_df['age']>20\n",
    "print(condition)\n",
    "my_df[condition]"
   ]
  },
  {
   "cell_type": "code",
   "execution_count": 116,
   "metadata": {},
   "outputs": [
    {
     "name": "stdout",
     "output_type": "stream",
     "text": [
      "a    Uday Vikram Singh\n",
      "b        Anubhav Yadav\n",
      "c        Prakhar Nigam\n",
      "d          Anand Kumar\n",
      "e          Ravi Mishra\n",
      "Name: name, dtype: object\n",
      "['Anubhav Yadav', 'Anand Kumar']\n"
     ]
    }
   ],
   "source": [
    "condition2=my_df['name']\n",
    "print(condition2)\n",
    "names=[name for name in condition2 if name[0]=='A']\n",
    "print(names)"
   ]
  },
  {
   "cell_type": "code",
   "execution_count": 118,
   "metadata": {},
   "outputs": [
    {
     "name": "stdout",
     "output_type": "stream",
     "text": [
      "a     True\n",
      "b     True\n",
      "c    False\n",
      "d    False\n",
      "e     True\n",
      "Name: Location, dtype: bool\n"
     ]
    },
    {
     "data": {
      "text/html": [
       "<div>\n",
       "<style scoped>\n",
       "    .dataframe tbody tr th:only-of-type {\n",
       "        vertical-align: middle;\n",
       "    }\n",
       "\n",
       "    .dataframe tbody tr th {\n",
       "        vertical-align: top;\n",
       "    }\n",
       "\n",
       "    .dataframe thead th {\n",
       "        text-align: right;\n",
       "    }\n",
       "</style>\n",
       "<table border=\"1\" class=\"dataframe\">\n",
       "  <thead>\n",
       "    <tr style=\"text-align: right;\">\n",
       "      <th></th>\n",
       "      <th>name</th>\n",
       "      <th>age</th>\n",
       "      <th>Degree</th>\n",
       "      <th>College</th>\n",
       "      <th>Location</th>\n",
       "    </tr>\n",
       "  </thead>\n",
       "  <tbody>\n",
       "    <tr>\n",
       "      <th>a</th>\n",
       "      <td>Uday Vikram Singh</td>\n",
       "      <td>20</td>\n",
       "      <td>B.Tech(CSE)</td>\n",
       "      <td>SRMCEM</td>\n",
       "      <td>Lucknow</td>\n",
       "    </tr>\n",
       "    <tr>\n",
       "      <th>b</th>\n",
       "      <td>Anubhav Yadav</td>\n",
       "      <td>21</td>\n",
       "      <td>B.Tech(Chemical)</td>\n",
       "      <td>IET</td>\n",
       "      <td>Lucknow</td>\n",
       "    </tr>\n",
       "    <tr>\n",
       "      <th>e</th>\n",
       "      <td>Ravi Mishra</td>\n",
       "      <td>21</td>\n",
       "      <td>Nursing</td>\n",
       "      <td>Integral University</td>\n",
       "      <td>Lucknow</td>\n",
       "    </tr>\n",
       "  </tbody>\n",
       "</table>\n",
       "</div>"
      ],
      "text/plain": [
       "                name  age            Degree              College Location\n",
       "a  Uday Vikram Singh   20       B.Tech(CSE)               SRMCEM  Lucknow\n",
       "b      Anubhav Yadav   21  B.Tech(Chemical)                  IET  Lucknow\n",
       "e        Ravi Mishra   21           Nursing  Integral University  Lucknow"
      ]
     },
     "execution_count": 118,
     "metadata": {},
     "output_type": "execute_result"
    }
   ],
   "source": [
    "condition3=my_df['Location']=='Lucknow'\n",
    "print(condition3)\n",
    "my_df[condition3]"
   ]
  },
  {
   "cell_type": "markdown",
   "metadata": {},
   "source": [
    "# Data Transformation"
   ]
  },
  {
   "cell_type": "code",
   "execution_count": 119,
   "metadata": {},
   "outputs": [],
   "source": [
    "# apply() - Apply a function to each element or row/column\n",
    "# 0 or ‘index’: apply function to each column.\n",
    "# 1 or ‘columns’: apply function to each row."
   ]
  },
  {
   "cell_type": "code",
   "execution_count": 122,
   "metadata": {},
   "outputs": [
    {
     "data": {
      "text/plain": [
       "name        Uday Vikram SinghAnubhav YadavPrakhar NigamAna...\n",
       "age                                                       106\n",
       "Degree      B.Tech(CSE)B.Tech(Chemical)B.Tech(Cyber Securi...\n",
       "College     SRMCEMIETChandigarh UniversitySDCAIntegral Uni...\n",
       "Location             LucknowLucknowChandigarhGhaziabadLucknow\n",
       "dtype: object"
      ]
     },
     "execution_count": 122,
     "metadata": {},
     "output_type": "execute_result"
    }
   ],
   "source": [
    "import numpy as np\n",
    "my_df.apply(np.sum,axis=0)\n",
    "# print(my_df.apply(np.sum,axis=1)) -- throws error TypeError: can only concatenate str (not \"int\") to str\n"
   ]
  },
  {
   "cell_type": "code",
   "execution_count": 127,
   "metadata": {},
   "outputs": [
    {
     "name": "stdout",
     "output_type": "stream",
     "text": [
      "a    20\n",
      "b    21\n",
      "c    21\n",
      "d    23\n",
      "e    21\n",
      "Name: age, dtype: int64\n",
      "a    40\n",
      "b    42\n",
      "c    42\n",
      "d    46\n",
      "e    42\n",
      "Name: age, dtype: int64\n"
     ]
    }
   ],
   "source": [
    "# map(), replace(): Map values using a dictionary or function.\n",
    "age=my_df['age']\n",
    "print(age)\n",
    "\n",
    "age1=my_df['age'].apply(lambda x:x*2)\n",
    "print(age1)\n"
   ]
  },
  {
   "cell_type": "code",
   "execution_count": null,
   "metadata": {},
   "outputs": [],
   "source": []
  }
 ],
 "metadata": {
  "kernelspec": {
   "display_name": "Python 3",
   "language": "python",
   "name": "python3"
  },
  "language_info": {
   "codemirror_mode": {
    "name": "ipython",
    "version": 3
   },
   "file_extension": ".py",
   "mimetype": "text/x-python",
   "name": "python",
   "nbconvert_exporter": "python",
   "pygments_lexer": "ipython3",
   "version": "3.10.9"
  }
 },
 "nbformat": 4,
 "nbformat_minor": 2
}
